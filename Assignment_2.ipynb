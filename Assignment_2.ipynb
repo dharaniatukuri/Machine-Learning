{
  "nbformat": 4,
  "nbformat_minor": 0,
  "metadata": {
    "colab": {
      "provenance": [],
      "authorship_tag": "ABX9TyMjmSCIXEDXAupwLaVFnN5y"
    },
    "kernelspec": {
      "name": "python3",
      "display_name": "Python 3"
    },
    "language_info": {
      "name": "python"
    }
  },
  "cells": [
    {
      "cell_type": "code",
      "execution_count": 1,
      "metadata": {
        "colab": {
          "base_uri": "https://localhost:8080/"
        },
        "id": "nxB83iXAdGwy",
        "outputId": "bffa1b1f-b0b5-4049-bb01-fbcf60075461"
      },
      "outputs": [
        {
          "output_type": "stream",
          "name": "stdout",
          "text": [
            "* \n",
            "* * \n",
            "* * * \n",
            "* * * * \n",
            "* * * * * \n",
            "* * * * \n",
            "* * * \n",
            "* * \n",
            "* \n"
          ]
        }
      ],
      "source": [
        "for i in range(1,5):\n",
        "    #string repetition operator\n",
        "    print(i*'* ')\n",
        "for i in range(5,0,-1):\n",
        "    # -1 in for loop is the difference between consecutive iterator values\n",
        "    print(i*'* ')"
      ]
    },
    {
      "cell_type": "code",
      "source": [
        "my_list = [10, 20, 30, 40, 50, 60, 70, 80, 90, 100]\n",
        "for i in range(1,len(my_list),2):\n",
        "    # 2 is the increment value\n",
        "    print(my_list[i])"
      ],
      "metadata": {
        "colab": {
          "base_uri": "https://localhost:8080/"
        },
        "id": "xHvrKGXZdSK8",
        "outputId": "1d61ba58-4b06-4249-a4a1-463ad0e83f4b"
      },
      "execution_count": 2,
      "outputs": [
        {
          "output_type": "stream",
          "name": "stdout",
          "text": [
            "20\n",
            "40\n",
            "60\n",
            "80\n",
            "100\n"
          ]
        }
      ]
    },
    {
      "cell_type": "code",
      "source": [
        "x = [23, 'Python', 23.98]\n",
        "type_list  = []\n",
        "for ele in x:\n",
        "    type_list.append(type(ele))\n",
        "print(type_list)"
      ],
      "metadata": {
        "colab": {
          "base_uri": "https://localhost:8080/"
        },
        "id": "A8yibD9sdTGr",
        "outputId": "7529e7f0-16f3-4d81-e8be-76df7dc5bc26"
      },
      "execution_count": 4,
      "outputs": [
        {
          "output_type": "stream",
          "name": "stdout",
          "text": [
            "[<class 'int'>, <class 'str'>, <class 'float'>]\n"
          ]
        }
      ]
    },
    {
      "cell_type": "code",
      "source": [
        "def unique(l):\n",
        "    # set method is used to extract the unique elements\n",
        "    return list(set(l))\n",
        "sample_list =  [1,2,3,3,3,3,4,5]\n",
        "unique_list = unique(sample_list)\n",
        "print(unique_list)"
      ],
      "metadata": {
        "colab": {
          "base_uri": "https://localhost:8080/"
        },
        "id": "FjC7E2Kpda3c",
        "outputId": "8cf47ac8-0137-45a3-9ba9-11113241cf21"
      },
      "execution_count": 5,
      "outputs": [
        {
          "output_type": "stream",
          "name": "stdout",
          "text": [
            "[1, 2, 3, 4, 5]\n"
          ]
        }
      ]
    },
    {
      "cell_type": "code",
      "source": [
        "def count(x):\n",
        "    # list comprehension and sum method is used to calculate the count\n",
        "    print('No. of Upper-case characters:', sum(1 for c in x if c.isupper()))\n",
        "    print('No. of Lower-case Characters:', sum(1 for c in x if c.islower()))\n",
        "    \n",
        "x = 'The quick Brow Fox'\n",
        "count(x)"
      ],
      "metadata": {
        "colab": {
          "base_uri": "https://localhost:8080/"
        },
        "id": "f6Wa5Nwkdd94",
        "outputId": "992d3f8d-2660-4894-d798-91d288bfa3d8"
      },
      "execution_count": 9,
      "outputs": [
        {
          "output_type": "stream",
          "name": "stdout",
          "text": [
            "No. of Upper-case characters: 3\n",
            "No. of Lower-case Characters: 12\n"
          ]
        }
      ]
    }
  ]
}