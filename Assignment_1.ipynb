{
  "nbformat": 4,
  "nbformat_minor": 0,
  "metadata": {
    "colab": {
      "provenance": [],
      "authorship_tag": "ABX9TyMq4mqLfP6y9J9jbg0JTsmt"
    },
    "kernelspec": {
      "name": "python3",
      "display_name": "Python 3"
    },
    "language_info": {
      "name": "python"
    }
  },
  "cells": [
    {
      "cell_type": "code",
      "execution_count": 3,
      "metadata": {
        "id": "iLaDDihqE309",
        "colab": {
          "base_uri": "https://localhost:8080/"
        },
        "outputId": "90389b6f-6adb-41ea-a8a3-61a0e0a6b16c"
      },
      "outputs": [
        {
          "output_type": "stream",
          "name": "stdout",
          "text": [
            "The sorted list is : [19, 19, 20, 22, 24, 24, 24, 25, 25, 26]\n",
            "The max age is : 26\n",
            "The min age is : 19\n",
            "sorted list with min and max age added [19, 19, 20, 22, 24, 24, 24, 25, 25, 26, 26, 19]\n",
            "The median age is : 24.0\n",
            "The average age is : 22.75\n",
            "The range is : 7\n"
          ]
        }
      ],
      "source": [
        "# question 1\n",
        "import math\n",
        "\n",
        "ages = [19, 22, 19, 24, 20, 25, 26, 24, 25, 24]\n",
        "# sorting the list \n",
        "ages.sort()\n",
        "\n",
        "# printing the sorted list\n",
        "print(\"The sorted list is :\",ages)\n",
        "\n",
        "#finding and printing the maximum age\n",
        "print(\"The max age is :\",max(ages))\n",
        "\n",
        "#finding and printing the minimum age\n",
        "print(\"The min age is :\",min(ages))\n",
        "\n",
        "# adding max age to list\n",
        "ages.append(max(ages))\n",
        "\n",
        "# adding min age to list\n",
        "ages.append(min(ages))\n",
        "print(\"sorted list with min and max age added\",ages)\n",
        "\n",
        "# newlist with sorted ages\n",
        "newlist = sorted(ages)\n",
        "n = math.floor(len(newlist))\n",
        "median = (newlist[int(n/2)] + newlist[int(n/2)+1])/2\n",
        "print(\"The median age is :\",median)\n",
        "\n",
        "# finding the average of list\n",
        "avg_age = sum(newlist)/len(newlist)\n",
        "print(\"The average age is :\",avg_age)\n",
        "\n",
        "# finding the range of list\n",
        "range_age = max(newlist) - min(newlist)\n",
        "print(\"The range is :\", range_age)"
      ]
    },
    {
      "cell_type": "code",
      "source": [
        "# question 2\n",
        "\n",
        "# creating an empty dictionary called dog\n",
        "dog={}\n",
        "print(\"created empty dictionary\", dog)\n",
        "\n",
        "# creating key:value pairs for dog dictionary\n",
        "dog={\n",
        "    \"name\":  \"shushulu\",\n",
        "    \"colour\":\"golden\",\n",
        "    \"breed\": \"golden retriever\",\n",
        "    \"legs\":  \"white\",\n",
        "    \"age\":   10\n",
        "}\n",
        "print(\"The dog dictionary contains :\",dog)\n",
        "\n",
        "# creating a student dictionary with key:value pairs\n",
        "student={\n",
        "    \"first_name\" :\"Dharani Chowdary\",\n",
        "    \"last_name\"  :\"Atukuri\",\n",
        "    \"gender\"     :\"Female\",\n",
        "    \"age\"        :\"23\",\n",
        "    \"martial status\":\"single\",\n",
        "    \"skills\" : [\"python\"],\n",
        "    \"country\"    :\"India\",\n",
        "    \"city\"       :\"Khammam\",\n",
        "    \"address\"    :\"2-134,Khammam\"\n",
        "}\n",
        "print(\"The student dictionary contains :\",student)\n",
        "\n",
        "# printing the length of dictionary\n",
        "print(\"The length of student dictionary is\",len(student))\n",
        "\n",
        "# printing the value of skills and checking the data type\n",
        "print(student['skills'],\"the data type of skills is :\", type(student[\"skills\"]))\n",
        "\n",
        "# adding values to skills\n",
        "student[\"skills\"].extend([\"java\",\"Html\"])\n",
        "print(student['skills'])\n",
        "\n",
        "# printing the dictionary keys\n",
        "a=student.keys()\n",
        "print(a)\n",
        "\n",
        "# printing the dictionary values\n",
        "b=student.values()\n",
        "print(b)"
      ],
      "metadata": {
        "colab": {
          "base_uri": "https://localhost:8080/"
        },
        "id": "NAciHfVOFU7o",
        "outputId": "b9ef8d4a-6d28-4201-85e0-a5f37a3a9f05"
      },
      "execution_count": 5,
      "outputs": [
        {
          "output_type": "stream",
          "name": "stdout",
          "text": [
            "created empty dictionary {}\n",
            "The dog dictionary contains : {'name': 'vinay', 'colour': 'golden', 'breed': 'golden retriever', 'legs': 'white', 'age': 10}\n",
            "The student dictionary contains : {'first_name': 'Dharani Chowdary', 'last_name': 'Atukuri', 'gender': 'Female', 'age': '23', 'martial status': 'single', 'skills': ['python'], 'country': 'India', 'city': 'Khammam', 'address': '2-134,Khammam'}\n",
            "The length of student dictionary is 9\n",
            "['python'] the data type of skills is : <class 'list'>\n",
            "['python', 'java', 'Html']\n",
            "dict_keys(['first_name', 'last_name', 'gender', 'age', 'martial status', 'skills', 'country', 'city', 'address'])\n",
            "dict_values(['Dharani Chowdary', 'Atukuri', 'Female', '23', 'single', ['python', 'java', 'Html'], 'India', 'Khammam', '2-134,Khammam'])\n"
          ]
        }
      ]
    },
    {
      "cell_type": "code",
      "source": [
        "# question 3\n",
        "\n",
        "# Create a tuple containing names of brothers\n",
        "brothers = (\"gopi\",\"ashok\")\n",
        "print(\"My brothers \", brothers)\n",
        "\n",
        "# Create a tuple containing names of sisters\n",
        "sisters = (\"gomathi\",\"divya\")\n",
        "print(\"My sisters \", sisters)\n",
        "\n",
        "# assigning brothers and sisters to siblings tuple\n",
        "siblings = brothers + sisters\n",
        "print(\"My siblings \", siblings)\n",
        "\n",
        "# printing the length of tuple\n",
        "print(len(siblings))\n",
        "\n",
        "# adding siblings, father and mother names to family_members tuple\n",
        "family_members = siblings + (\"renuka\",\"mohan\")\n",
        "print(\"My family members are \",family_members)"
      ],
      "metadata": {
        "colab": {
          "base_uri": "https://localhost:8080/"
        },
        "id": "_8DTPKijFnjC",
        "outputId": "c6d5631c-9ff9-4659-a055-4760d58ecf4e"
      },
      "execution_count": 6,
      "outputs": [
        {
          "output_type": "stream",
          "name": "stdout",
          "text": [
            "My brothers  ('gopi', 'ashok')\n",
            "My sisters  ('gomathi', 'divya')\n",
            "My siblings  ('gopi', 'ashok', 'gomathi', 'divya')\n",
            "4\n",
            "My family members are  ('gopi', 'ashok', 'gomathi', 'divya', 'renuka', 'mohan')\n"
          ]
        }
      ]
    },
    {
      "cell_type": "code",
      "source": [
        "it_companies = {'Facebook', 'Google', 'Microsoft', 'Apple', 'IBM', 'Oracle', 'Amazon'}\n",
        "A = {19, 22, 24, 20, 25, 26}\n",
        "B = {19, 22, 20, 25, 26, 24, 28, 27}\n",
        "age = [22, 19, 24, 25, 26, 24, 25, 24]\n",
        "\n",
        "# printing the length of it_companies\n",
        "print(\"The length of set is\",len(it_companies))\n",
        "\n",
        "# adding Twitter to it_companies\n",
        "it_companies.add(\"Twitter\")\n",
        "print(\"Added Twitter\", it_companies)\n",
        "\n",
        "# inserting multiple companies \n",
        "it_companies.update({\"Accenture\",\"Tata elxsi\",\"Capital one\"})\n",
        "print(\"Updated IT companies\", it_companies)\n",
        "\n",
        "# removing capital one from it_companies\n",
        "it_companies.remove(\"Capital one\")\n",
        "print(\"Company Capital one removed from set\",it_companies)\n",
        "\n",
        "# union of A and B\n",
        "C = A.union(B)\n",
        "print(\"The union of A and B\",C)\n",
        "\n",
        "# intersection of A and B\n",
        "X = A.intersection(B)\n",
        "print(\"The intersection of A and B\",X)\n",
        "\n",
        "# subset of A and B\n",
        "Y = A.issubset(B)\n",
        "print(\"A is subset of B\",Y)"
      ],
      "metadata": {
        "colab": {
          "base_uri": "https://localhost:8080/"
        },
        "id": "r32PNpfIFtF9",
        "outputId": "4874808f-abc9-4048-c57c-bfb7d7ee4653"
      },
      "execution_count": 7,
      "outputs": [
        {
          "output_type": "stream",
          "name": "stdout",
          "text": [
            "length of it_companies :  7\n",
            "it_companies after appending twitter : {'Microsoft', 'Amazon', 'Twitter', 'Apple', 'Google', 'IBM', 'Facebook', 'Oracle'}\n",
            "it_companies after appending multiple companies : {'Microsoft', 'Amazon', 'TCS', 'Twitter', 'Apple', 'Google', 'Wipro', 'IBM', 'Facebook', 'Oracle', 'NCR'}\n",
            "it_companies after removing one company :  {'Microsoft', 'Amazon', 'TCS', 'Apple', 'Google', 'Wipro', 'IBM', 'Facebook', 'Oracle', 'NCR'}\n",
            "joining A and B gives : {19, 20, 22, 24, 25, 26, 27, 28}\n",
            "Intersection of A and B is: {19, 20, 22, 24, 25, 26}\n",
            "A is subset of B\n",
            "A and B are not disjoint sets\n",
            "A join B is : {19, 20, 22, 24, 25, 26, 27, 28}\n",
            "B join A is : {19, 20, 22, 24, 25, 26, 27, 28}\n",
            "symmetric difference between A and B is : {27, 28}\n",
            "length of ages list is :  8\n",
            "length of ages set is : 5\n",
            "length of ages list is greater than the ages set\n"
          ]
        }
      ]
    },
    {
      "cell_type": "code",
      "source": [
        "# disjoint of A and B\n",
        "Z = A.isdisjoint(B)\n",
        "print(\"A is disjoint of B\",Z)\n",
        "\n",
        "# join A and B\n",
        "A.update(B)\n",
        "print(A)\n",
        "\n",
        "# join B and A \n",
        "\n",
        "B.update(A)\n",
        "print(B)\n",
        "\n",
        "# symmetric difference of A and B\n",
        "U = A.symmetric_difference(B)\n",
        "print(\"Symmetric difference of A and B\",U)"
      ],
      "metadata": {
        "colab": {
          "base_uri": "https://localhost:8080/"
        },
        "id": "3nDRR7QbnZuO",
        "outputId": "38f51c70-f711-4c4c-93e5-8dc44b1d4ea4"
      },
      "execution_count": 8,
      "outputs": [
        {
          "output_type": "stream",
          "name": "stdout",
          "text": [
            "A is disjoint of B True\n",
            "set()\n",
            "set()\n",
            "Symmetric difference of A and B set()\n"
          ]
        }
      ]
    },
    {
      "cell_type": "code",
      "source": [
        "# deleting A set\n",
        "del(A)\n",
        "print(A)"
      ],
      "metadata": {
        "colab": {
          "base_uri": "https://localhost:8080/",
          "height": 201
        },
        "id": "3-s2e-jooGqy",
        "outputId": "750134ad-ff83-4ff0-916d-021e7b98c43a"
      },
      "execution_count": 11,
      "outputs": [
        {
          "output_type": "error",
          "ename": "NameError",
          "evalue": "ignored",
          "traceback": [
            "\u001b[0;31m---------------------------------------------------------------------------\u001b[0m",
            "\u001b[0;31mNameError\u001b[0m                                 Traceback (most recent call last)",
            "\u001b[0;32m<ipython-input-11-201ca22b5b08>\u001b[0m in \u001b[0;36m<module>\u001b[0;34m\u001b[0m\n\u001b[1;32m      1\u001b[0m \u001b[0;31m# deleting A set\u001b[0m\u001b[0;34m\u001b[0m\u001b[0;34m\u001b[0m\u001b[0;34m\u001b[0m\u001b[0m\n\u001b[0;32m----> 2\u001b[0;31m \u001b[0;32mdel\u001b[0m\u001b[0;34m(\u001b[0m\u001b[0mA\u001b[0m\u001b[0;34m)\u001b[0m\u001b[0;34m\u001b[0m\u001b[0;34m\u001b[0m\u001b[0m\n\u001b[0m\u001b[1;32m      3\u001b[0m \u001b[0mprint\u001b[0m\u001b[0;34m(\u001b[0m\u001b[0mA\u001b[0m\u001b[0;34m)\u001b[0m\u001b[0;34m\u001b[0m\u001b[0;34m\u001b[0m\u001b[0m\n",
            "\u001b[0;31mNameError\u001b[0m: name 'A' is not defined"
          ]
        }
      ]
    },
    {
      "cell_type": "code",
      "source": [
        "# deleting B set\n",
        "del(B)\n",
        "print(B)"
      ],
      "metadata": {
        "colab": {
          "base_uri": "https://localhost:8080/",
          "height": 201
        },
        "id": "49z4vS94obKb",
        "outputId": "4d7d3730-387b-449e-dc40-d4efdea0c931"
      },
      "execution_count": 12,
      "outputs": [
        {
          "output_type": "error",
          "ename": "NameError",
          "evalue": "ignored",
          "traceback": [
            "\u001b[0;31m---------------------------------------------------------------------------\u001b[0m",
            "\u001b[0;31mNameError\u001b[0m                                 Traceback (most recent call last)",
            "\u001b[0;32m<ipython-input-12-bf5b9a638412>\u001b[0m in \u001b[0;36m<module>\u001b[0;34m\u001b[0m\n\u001b[1;32m      1\u001b[0m \u001b[0;31m# deleting B set\u001b[0m\u001b[0;34m\u001b[0m\u001b[0;34m\u001b[0m\u001b[0;34m\u001b[0m\u001b[0m\n\u001b[1;32m      2\u001b[0m \u001b[0;32mdel\u001b[0m\u001b[0;34m(\u001b[0m\u001b[0mB\u001b[0m\u001b[0;34m)\u001b[0m\u001b[0;34m\u001b[0m\u001b[0;34m\u001b[0m\u001b[0m\n\u001b[0;32m----> 3\u001b[0;31m \u001b[0mprint\u001b[0m\u001b[0;34m(\u001b[0m\u001b[0mB\u001b[0m\u001b[0;34m)\u001b[0m\u001b[0;34m\u001b[0m\u001b[0;34m\u001b[0m\u001b[0m\n\u001b[0m",
            "\u001b[0;31mNameError\u001b[0m: name 'B' is not defined"
          ]
        }
      ]
    },
    {
      "cell_type": "code",
      "source": [
        "# printing the length of age list\n",
        "print(len(age))\n",
        "\n",
        "# converting age list to set\n",
        "W = set(age)\n",
        "print(W)\n",
        "\n",
        "# printing the len of age set \n",
        "print(len(W))\n",
        "\n",
        "# comparing the length of list and set\n",
        "print(\"compare the length\", len(age)==len(W))"
      ],
      "metadata": {
        "colab": {
          "base_uri": "https://localhost:8080/"
        },
        "id": "1L6qaarAoj0h",
        "outputId": "ae9970c2-de3a-4831-db03-02ba4149eb81"
      },
      "execution_count": 13,
      "outputs": [
        {
          "output_type": "stream",
          "name": "stdout",
          "text": [
            "8\n",
            "{19, 22, 24, 25, 26}\n",
            "5\n",
            "compare the length False\n"
          ]
        }
      ]
    },
    {
      "cell_type": "code",
      "source": [
        "# question 5\n",
        "\n",
        "# given Radius of circle is 30\n",
        "R = 30 \n",
        "\n",
        "# assign the value to a variable name of area_of_circle\n",
        "area_of_circle = 3.14*R*R\n",
        "print(\"The area of circle is\", area_of_circle)\n",
        "\n",
        "# calculating circumference of circle\n",
        "circum_of_circle = 2*3.14*R\n",
        "print(\"The circumference of circle is\", circum_of_circle)\n",
        "\n",
        "# taking radius as user input and calculating the area of circle\n",
        "r = float(input(\"Enter the radius: \"))\n",
        "area = 3.14*r*r\n",
        "print(\"The area of circle is\", area)"
      ],
      "metadata": {
        "colab": {
          "base_uri": "https://localhost:8080/"
        },
        "id": "-4sr7fvkGHGe",
        "outputId": "08db0747-4db1-4c38-b1e8-3ed97c961094"
      },
      "execution_count": null,
      "outputs": [
        {
          "output_type": "stream",
          "name": "stdout",
          "text": [
            "The area of circle is 2826.0\n",
            "The circumference of circle is 188.4\n",
            "Enter the radius: 5\n",
            "The area of circle is 78.5\n"
          ]
        }
      ]
    },
    {
      "cell_type": "code",
      "source": [
        "# question 6\n",
        "\n",
        "# assigning given string to str\n",
        "str =\"I am a teacher and I love to inspire and teach people\"\n",
        "\n",
        "# storing string in the form of list of words\n",
        "s = set(str.split(\" \"))\n",
        "print(\"Number of unique words\", len(s))"
      ],
      "metadata": {
        "colab": {
          "base_uri": "https://localhost:8080/"
        },
        "id": "NbepS-lEGKCe",
        "outputId": "d762f344-2b43-4a8a-e67d-fe523728a475"
      },
      "execution_count": null,
      "outputs": [
        {
          "output_type": "stream",
          "name": "stdout",
          "text": [
            "Number of unique words 10\n"
          ]
        }
      ]
    },
    {
      "cell_type": "code",
      "source": [
        "# question 7\n",
        "\n",
        "# printing the below print statement\n",
        "print(\"Name\\tAge\\tCountry\\tCity\\nAsabeneh\\t250\\tFinland\\tHelsinki\")"
      ],
      "metadata": {
        "colab": {
          "base_uri": "https://localhost:8080/"
        },
        "id": "qSafNcdlGbOR",
        "outputId": "56376a4a-1608-4cb9-a426-2c7e92d55923"
      },
      "execution_count": null,
      "outputs": [
        {
          "output_type": "stream",
          "name": "stdout",
          "text": [
            "Name\tAge\tCountry\tCity\n",
            "Asabeneh\t250\tFinland\tHelsinki\n"
          ]
        }
      ]
    },
    {
      "cell_type": "code",
      "source": [
        "# question 8\n",
        "\n",
        "# Given radius = 10\n",
        "r = 10\n",
        "a = 3.14*r*r\n",
        "\n",
        "#The placeholders can be identified using numbered indexes {0}, or even empty placeholders {} \n",
        "#Inside the placeholders we can add a formatting type to format the result\n",
        "str = \"The area of a circle with radius {} is {} meters square\".format(r,a)\n",
        "print(str)"
      ],
      "metadata": {
        "colab": {
          "base_uri": "https://localhost:8080/"
        },
        "id": "Z-Z_UeLzGwlq",
        "outputId": "717a8f47-9aeb-4354-a4d3-cfdbd74f6362"
      },
      "execution_count": null,
      "outputs": [
        {
          "output_type": "stream",
          "name": "stdout",
          "text": [
            "The area of a circle with radius 10 is 314.0 meters square\n"
          ]
        }
      ]
    },
    {
      "cell_type": "code",
      "source": [
        "# question 9\n",
        "\n",
        "\n",
        "w_lb = []\n",
        "w_kg = []\n",
        "\n",
        "# user input to enter the number of students\n",
        "n = int(input(\"Enter number of students:\"))\n",
        "\n",
        "# using for loop\n",
        "\n",
        "for i in range(0, n):\n",
        "    uinp = int(input())\n",
        "    w_lb.append(uinp)\n",
        "\n",
        "    kg = uinp * 0.453592\n",
        "    w_kg.append(kg)\n",
        "print(\"user input\",w_lb)\n",
        "print(w_kg)"
      ],
      "metadata": {
        "colab": {
          "base_uri": "https://localhost:8080/"
        },
        "id": "muzORv3_IjHx",
        "outputId": "42b21808-3b2f-400b-a118-64e67dd5af79"
      },
      "execution_count": 1,
      "outputs": [
        {
          "output_type": "stream",
          "name": "stdout",
          "text": [
            "Enter number of students:2\n",
            "30\n",
            "30\n",
            "user input [30, 30]\n",
            "[13.607759999999999, 13.607759999999999]\n"
          ]
        }
      ]
    },
    {
      "cell_type": "code",
      "source": [
        "from sklearn.model_selection import train_test_split\n",
        "from sklearn.neighbors import KNeighborsClassifier\n",
        "from sklearn.metrics import confusion_matrix\n",
        "\n",
        "data_points = [[1,0],[2,0],[3,1],[6,1],[6,1],[7,0],[10,0],[11,0]]\n",
        "x = [[1],[2],[3],[6],[6],[7],[10],[11]]\n",
        "y = [0,0,1,1,1,0,0,0]\n",
        "\n",
        "# splitting data\n",
        "data_train, data_test, pred_train, pred_test = train_test_split(x,y, test_size=0.5, random_state=33)\n",
        "\n",
        "print(data_train, data_test, pred_train, pred_test)"
      ],
      "metadata": {
        "id": "-X4eruWaJJGL",
        "outputId": "4f974249-70a2-4094-d5d5-1130b75863ef",
        "colab": {
          "base_uri": "https://localhost:8080/"
        }
      },
      "execution_count": null,
      "outputs": [
        {
          "output_type": "stream",
          "name": "stdout",
          "text": [
            "[[7], [3], [1], [6]] [[10], [11], [6], [2]] [0, 1, 0, 1] [0, 0, 1, 0]\n"
          ]
        }
      ]
    }
  ]
}